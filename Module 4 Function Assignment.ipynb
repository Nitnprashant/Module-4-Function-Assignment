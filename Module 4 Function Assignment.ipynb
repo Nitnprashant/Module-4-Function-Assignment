{
 "cells": [
  {
   "cell_type": "markdown",
   "id": "d367e118-f79f-40e5-af94-ea3457b18872",
   "metadata": {},
   "source": [
    "# THEORY QUESTIONS:\n",
    "\n",
    "# 1. What is the difference between a function and a method in Python?\n",
    "\n",
    "\n",
    "# In Python, the terms \"function\" and \"method\" are often used interchangeably, but there's a subtle difference:\n",
    "\n",
    "# A function is a self-contained block of code that takes inputs (arguments) and returns outputs.\n",
    "# It's a standalone entity that can be called independently. Example:"
   ]
  },
  {
   "cell_type": "code",
   "execution_count": 3,
   "id": "f9fa41c6-8b17-4f3b-91b5-d5b9d9e855b4",
   "metadata": {},
   "outputs": [],
   "source": [
    "def add(x, y): return x + y"
   ]
  },
  {
   "cell_type": "markdown",
   "id": "8c9eeb3a-8b27-463e-89a6-4f90c9fef5e9",
   "metadata": {},
   "source": [
    "# A method, on the other hand, is a function that's part of a class or object. It's a function that's bound to a specific class or instance and has access to its data (attributes). Methods are called on an object or class instance. Example:"
   ]
  },
  {
   "cell_type": "code",
   "execution_count": 6,
   "id": "7a020b57-a43a-46fd-beea-117877ea38aa",
   "metadata": {},
   "outputs": [],
   "source": [
    "class Calculator:\n",
    "    def add(self, x, y):\n",
    "        return x + y"
   ]
  },
  {
   "cell_type": "markdown",
   "id": "c8b36632-da73-40f8-ba30-a13a0781440c",
   "metadata": {},
   "source": [
    "# Key differences:\n",
    "\n",
    "# - A function is standalone, while a method is part of a class/object.\n",
    "# - Methods have access to the object's data (self), while functions don't."
   ]
  },
  {
   "cell_type": "markdown",
   "id": "6917a34c-882e-4810-a660-698c4d4f4f97",
   "metadata": {},
   "source": [
    "# 2. Explain the concept of function arguments and parameters in Python.\n",
    "\n",
    "# In Python, when defining a function, you specify parameters, which are like placeholders for values that will be passed to the function when it's called. These parameters are part of the function definition.\n",
    "\n",
    "# Function arguments, on the other hand, are the actual values passed to the function when it's called. They're the data that fills the placeholders (parameters).\n",
    "\n",
    "# Think of it like a recipe:\n",
    "\n",
    "# Parameters (in the function definition) are like the ingredient names (e.g., \"flour\", \"sugar\").\n",
    "\n",
    "# Arguments (when calling the function) are like the actual ingredients used (e.g., 2 cups of flour, 1 cup of sugar).\n",
    "\n",
    "# Here's an example:"
   ]
  },
  {
   "cell_type": "code",
   "execution_count": 8,
   "id": "fbc1c628-5055-49e1-9573-c95ba66330f1",
   "metadata": {},
   "outputs": [],
   "source": [
    "def greet(name, message):  # name and message are parameters\n",
    "    print(f\"Hello {name}, {message}!\")"
   ]
  },
  {
   "cell_type": "code",
   "execution_count": 9,
   "id": "847b1db5-9427-4868-b26c-59a641286e1f",
   "metadata": {},
   "outputs": [
    {
     "name": "stdout",
     "output_type": "stream",
     "text": [
      "Hello Shivom, Have a great day!!\n"
     ]
    }
   ],
   "source": [
    "greet(\"Shivom\", \"Have a great day!\")  # \"Shivom\" and \"Have a great day!\" are arguments"
   ]
  },
  {
   "cell_type": "markdown",
   "id": "a28d2413-3a89-43c8-839a-bc3dff27edde",
   "metadata": {},
   "source": [
    "# In this example:\n",
    "\n",
    "# - name and message are parameters in the function definition.\n",
    "# - \"Shivom\" and \"Have a great day!\" are arguments passed when calling the function."
   ]
  },
  {
   "cell_type": "markdown",
   "id": "f6938102-b8f0-40a1-83ab-7748a7a9f773",
   "metadata": {},
   "source": [
    "# 3. What are the different ways to define and call a function in Python?\n",
    "\n",
    "# Python offers several ways to define and call functions. Here are the different ways:\n",
    "\n",
    "# Defining Functions:"
   ]
  },
  {
   "cell_type": "code",
   "execution_count": 10,
   "id": "240fa271-50f7-4d6e-ac87-0300a5f9a370",
   "metadata": {},
   "outputs": [],
   "source": [
    "# 1. Lambda Function: Use the lambda keyword for small, single-expression functions.\n",
    "\n",
    "greet = lambda name: print(f\"Hello, {name}!\")\n"
   ]
  },
  {
   "cell_type": "code",
   "execution_count": 11,
   "id": "eca82cb1-296c-4349-a6fb-71b9ad41f904",
   "metadata": {},
   "outputs": [],
   "source": [
    "# 1. Nested Function: Define a function inside another function.\n",
    "\n",
    "def outer():\n",
    "    def inner():\n",
    "        print(\"Hello from inner!\")\n",
    "    inner()"
   ]
  },
  {
   "cell_type": "code",
   "execution_count": 12,
   "id": "d6c61f75-f239-43cd-aabb-257108c4e1b7",
   "metadata": {},
   "outputs": [],
   "source": [
    "# 1. Closure: A function that captures and uses variables from its surrounding scope.\n",
    "\n",
    "def outer():\n",
    "    name = \"Shivom\"\n",
    "    def inner():\n",
    "        print(f\"Hello, {name}!\")\n",
    "    return inner"
   ]
  },
  {
   "cell_type": "code",
   "execution_count": 13,
   "id": "98e876f6-bbba-476a-8554-ff77a50589bc",
   "metadata": {},
   "outputs": [
    {
     "name": "stdout",
     "output_type": "stream",
     "text": [
      "Hello, Shivom!\n"
     ]
    }
   ],
   "source": [
    "# Calling Functions:\n",
    "\n",
    "# 1. Direct Call: Call a function by its name, passing arguments in parentheses.\n",
    "\n",
    "greet(\"Shivom\")"
   ]
  },
  {
   "cell_type": "code",
   "execution_count": 14,
   "id": "95165b0c-b1b3-4764-9908-0d299714a439",
   "metadata": {},
   "outputs": [
    {
     "name": "stdout",
     "output_type": "stream",
     "text": [
      "Hello, Shivom!\n"
     ]
    }
   ],
   "source": [
    "# 1. Variable Call: Store a function in a variable and call it through that variable.\n",
    "\n",
    "greeting = greet\n",
    "greeting(\"Shivom\")"
   ]
  },
  {
   "cell_type": "code",
   "execution_count": 16,
   "id": "d2bd639f-c28d-4d00-b6ef-36a2a3ef464f",
   "metadata": {},
   "outputs": [],
   "source": [
    "# 1. Higher-Order Function Call: Pass a function as an argument to another function.\n",
    "\n",
    "def twice(func):\n",
    "    func()\n",
    "    func()\n",
    "    twice(greet)"
   ]
  },
  {
   "cell_type": "code",
   "execution_count": 17,
   "id": "2fc8356e-fba3-435a-94f0-ac6144b55386",
   "metadata": {},
   "outputs": [],
   "source": [
    "# 1. Map, Filter, Reduce: Use built-in functions like map(), filter(), and reduce() to call functions on iterables."
   ]
  },
  {
   "cell_type": "markdown",
   "id": "eac44a39-28ee-4b54-bad1-70285059fc57",
   "metadata": {},
   "source": [
    "# 4. What is the purpose of the `return` statement in a Python function?\n",
    "\n",
    "# The return statement in a Python function serves two primary purposes:\n",
    "\n",
    "# 1. Exiting the function: When a return statement is encountered, the function execution stops, and control is returned to the caller. This means that any code following the return statement will not be executed.\n",
    "\n",
    "# 2. Returning a value: The return statement can also be used to return a value from the function to the caller. This value can be a single value, a tuple, a list, or even a dictionary.\n",
    "\n",
    "# When a function finishes executing, it automatically returns None if no explicit return statement is provided. However, if you want to return a specific value, you must use the return statement.\n",
    "\n",
    "# Here's an example:"
   ]
  },
  {
   "cell_type": "code",
   "execution_count": 18,
   "id": "0924e9b2-8555-4128-b668-f86ff93f2ffe",
   "metadata": {},
   "outputs": [
    {
     "name": "stdout",
     "output_type": "stream",
     "text": [
      "5\n"
     ]
    }
   ],
   "source": [
    "def add(x, y):\n",
    "    return x + y\n",
    "\n",
    "result = add(2, 3)\n",
    "print(result)"
   ]
  },
  {
   "cell_type": "markdown",
   "id": "cbfabd51-3d53-42a2-88e5-c7379b758ecb",
   "metadata": {},
   "source": [
    "# In this example, the add function returns the sum of x and y, which is then assigned to the result variable and printed.\n",
    "\n",
    "# If you don't use the return statement, the function will return None by default:"
   ]
  },
  {
   "cell_type": "code",
   "execution_count": 19,
   "id": "9d85c342-5e5f-4238-8878-ddf9184bf9d4",
   "metadata": {},
   "outputs": [
    {
     "name": "stdout",
     "output_type": "stream",
     "text": [
      "Hello, Shivom!\n",
      "None\n"
     ]
    }
   ],
   "source": [
    "def greet(name):\n",
    "    print(f\"Hello, {name}!\")\n",
    "\n",
    "result = greet(\"Shivom\")\n",
    "print(result)"
   ]
  },
  {
   "cell_type": "markdown",
   "id": "bc86b3bc-dd46-43a3-8e14-d69acb38cebc",
   "metadata": {},
   "source": [
    "# In this case, the greet function prints a message but doesn't return any value explicitly, so result is assigned None.\n",
    "\n",
    "# That's the purpose of the return statement in Python functions."
   ]
  },
  {
   "cell_type": "markdown",
   "id": "29efee08-ae73-456d-8536-376b240cd5c0",
   "metadata": {},
   "source": [
    "# 5. What are iterators in Python and how do they differ from iterables?\n",
    "\n",
    "# Iterators and iterables are two related but distinct concepts in Python:\n",
    "\n",
    "# Iterables:\n",
    "\n",
    "# - An iterable is an object that can be iterated over, meaning it can be looped through one item at a time.\n",
    "# - Examples: lists, tuples, dictionaries, sets, strings, and even custom objects that implement the __iter__ method.\n",
    "# - Iterables have an __iter__ method that returns an iterator object.\n",
    "\n",
    "# Iterators:\n",
    "\n",
    "# - An iterator is an object that keeps track of its position in an iterable and yields items one at a time.\n",
    "# - An iterator is created by calling the __iter__ method on an iterable.\n",
    "# - Iterators have a __next__ method that returns the next item in the iteration.\n",
    "\n",
    "# Key differences:\n",
    "\n",
    "# - Iterables are the objects being iterated over, while iterators are the objects doing the iterating.\n",
    "# - Iterables can be reused, while iterators are exhausted after a single pass.\n",
    "# - Iterators remember their position, while iterables do not.\n",
    "\n",
    "# To illustrate the difference:\n",
    "\n",
    "# - A book (iterable) contains pages, and a bookmark (iterator) keeps track of the current page.\n",
    "\n",
    "# You can create an iterator from an iterable using the iter() function:"
   ]
  },
  {
   "cell_type": "code",
   "execution_count": 20,
   "id": "e86dbd5e-6443-40b0-bdd9-09b8af81ac79",
   "metadata": {},
   "outputs": [],
   "source": [
    "my_list = [1, 2, 3]; my_iter = iter(my_list)"
   ]
  },
  {
   "cell_type": "code",
   "execution_count": 21,
   "id": "4a08642d-6b89-4cb8-9bba-aafe375f4572",
   "metadata": {},
   "outputs": [
    {
     "name": "stdout",
     "output_type": "stream",
     "text": [
      "1\n"
     ]
    }
   ],
   "source": [
    "# Then, use the next() function to retrieve items from the iterator:\n",
    "\n",
    "print(next(my_iter)) # prints 1; print(next(my_iter)) # prints 2\n",
    "\n",
    "# Remember, iterators are like pointers that move through an iterable, while iterables are the data structures being pointed to!"
   ]
  },
  {
   "cell_type": "markdown",
   "id": "aa375df8-e5c0-4a10-a790-4d223c68bdd2",
   "metadata": {},
   "source": [
    "# 6. Explain the concept of generators in Python and how they are defined\n",
    "\n",
    "# Generators in Python are a type of iterable object that can be used to generate a sequence of values on the fly, without storing them all in memory at once. They're like super-efficient iterators!\n",
    "\n",
    "# A generator is defined using a function that contains the yield keyword. When called, the function doesn't execute immediately. Instead, it returns a generator object that can be iterated over.\n",
    "\n",
    "# Here's a simple example:\n"
   ]
  },
  {
   "cell_type": "code",
   "execution_count": 22,
   "id": "41a48772-abec-4895-81e9-ecf93b5f6d8b",
   "metadata": {},
   "outputs": [
    {
     "name": "stdout",
     "output_type": "stream",
     "text": [
      "1\n",
      "2\n",
      "3\n"
     ]
    }
   ],
   "source": [
    "def my_gen():\n",
    "    yield 1\n",
    "    yield 2\n",
    "    yield 3\n",
    "\n",
    "gen_obj = my_gen()\n",
    "\n",
    "for item in gen_obj:\n",
    "    print(item)"
   ]
  },
  {
   "cell_type": "markdown",
   "id": "55ab1091-c6f4-43fd-bdc6-633137ed2ec2",
   "metadata": {},
   "source": [
    "# Notice that the my_gen function doesn't return a list or any collection. It uses yield to produce values one at a time. When we iterate over the generator object gen_obj, it executes the function until it reaches the first yield, returns that value, and pauses. Then, on the next iteration, it resumes execution from where it left off and continues until the next yield, and so on.\n",
    "\n",
    "# Generators are useful for:\n",
    "\n",
    "# - Handling large datasets without loading everything into memory\n",
    "# - Implementing infinite sequences (e.g., Fibonacci numbers)\n",
    "# - Creating data pipelines for processing streams of data\n",
    "\n",
    "# Some key characteristics of generators:\n",
    "\n",
    "# - They're iterable, but not iterators themselves\n",
    "# - They use yield to produce values, not return\n",
    "# - They maintain their state between iterations\n",
    "# - They're exhausted after a single pass (can't be reused) "
   ]
  },
  {
   "cell_type": "markdown",
   "id": "4906022b-921a-442c-a4cd-870f5563486b",
   "metadata": {},
   "source": [
    "# 7. What are the advantages of using generators over regular functions?\n",
    "\n",
    "# Generators have several advantages over regular functions:\n",
    "\n",
    "# 1. Memory Efficiency: Generators use significantly less memory than regular functions, especially when dealing with large datasets. They generate values on-the-fly, rather than storing them all in memory at once.\n",
    "\n",
    "# 2. Lazy Evaluation: Generators only compute values when needed, whereas regular functions compute all values upfront. This makes generators more efficient for computations that may not be necessary.\n",
    "\n",
    "# 3. Flexibility: Generators can be used to create infinite sequences or data streams, whereas regular functions are limited to returning a fixed number of values.\n",
    "\n",
    "# 4. Improved Performance: Generators can perform better than regular functions, especially for large datasets, since they avoid the overhead of creating and returning large data structures.\n",
    "\n",
    "# 5. Simplified Code: Generators can lead to more concise and readable code, as they eliminate the need for explicit loops and data storage.\n",
    "\n",
    "# 6. Easier Data Pipelining: Generators make it easy to create data pipelines, where data is processed in a series of steps, without needing to store intermediate results.\n",
    "\n",
    "# 7. Better Handling of Large Datasets: Generators are perfect for handling large datasets that don't fit into memory or need to be processed in chunks.\n",
    "\n",
    "# 8. Improved Debugging: Generators make it easier to debug code, as they allow you to inspect and iterate over values one at a time.\n",
    "\n",
    "# 9. Compatibility: Generators are compatible with many Python built-in functions and libraries, making them a versatile tool.\n",
    "\n",
    "# 10. Efficient Use of Resources: Generators are designed to use resources (like memory and CPU) efficiently, making them a great choice for resource-constrained environments."
   ]
  },
  {
   "cell_type": "markdown",
   "id": "0df9ea05-be10-498c-b851-387ee29c485a",
   "metadata": {},
   "source": [
    "# 8. What is a lambda function in Python and when is it typically used?\n",
    "\n",
    "# A lambda function in Python is a small, anonymous function that can be defined inline within a larger expression. It's a shorthand way to create a simple function without declaring a separate named function.\n",
    "\n",
    "# Lambda functions typically have the following characteristics:\n",
    "\n",
    "# 1. Anonymous: They don't have a declared name.\n",
    "# 2. Inline: They're defined within a larger expression.\n",
    "# 3. Single expression: They consist of a single expression, not multiple statements.\n",
    "# 4. No return statement: The result of the expression is automatically returned.\n",
    "\n",
    "# The syntax for a lambda function is:\n",
    "\n",
    "# lambda arguments: expression\n",
    "\n",
    "# Where arguments is a comma-separated list of input variables, and expression is the code to execute.\n",
    "\n",
    "# Lambda functions are typically used in situations like:\n",
    "\n",
    "# 1. Short, simple functions: When you need a brief, one-time-use function.\n",
    "# 2. Event handling: In GUI programming or web development, lambda functions are often used as event handlers.\n",
    "# 3. Data processing: For simple data transformations or filtering.\n",
    "# 4. Higher-order functions: When passing functions as arguments to other functions.\n",
    "# 5. Closures: To create small, self-contained functions that capture their environment.\n",
    "\n",
    "# Some examples:\n",
    "\n",
    "# - A simple lambda function: double = lambda x: x * 2\n",
    "# - Using lambda with map(): numbers = [1, 2, 3]; doubled_numbers = list(map(lambda x: x * 2, numbers))\n",
    "# - As an event handler: button.on_click(lambda: print(\"Button clicked!\"))\n",
    "\n",
    "# Lambda functions are a concise and expressive way to define small functions, making your code more readable and efficient."
   ]
  },
  {
   "cell_type": "markdown",
   "id": "6e76995a-bb74-4659-9bb9-5925ffb5ccc7",
   "metadata": {},
   "source": [
    "# 9. Explain the purpose and usage of the `map()` function in Python.\n",
    "\n",
    "# The map() function in Python is a built-in function that applies a given function to each item of an iterable (such as a list, tuple, or dictionary) and returns a list of the results. It's a powerful tool for data transformation and processing!\n",
    "\n",
    "# Purpose:\n",
    "\n",
    "# - Apply a function to each element of an iterable\n",
    "# - Transform data from one format to another\n",
    "# - Perform element-wise operations on iterables\n",
    "\n",
    "# Usage:\n",
    "\n",
    "# map(function, iterable)\n",
    "\n",
    "# - function: The function to apply to each element\n",
    "# - iterable: The iterable to process (e.g., list, tuple, dictionary)"
   ]
  },
  {
   "cell_type": "code",
   "execution_count": 24,
   "id": "3e7f8ad9-3feb-4298-ae2c-4d98b0f6a73c",
   "metadata": {},
   "outputs": [],
   "source": [
    "# Example:\n",
    "\n",
    "numbers = [1, 2, 3];\n",
    "doubled_numbers = list(map(lambda x: x * 2, numbers))"
   ]
  },
  {
   "cell_type": "markdown",
   "id": "df142c4e-5089-4ac7-997b-37a634f2fa85",
   "metadata": {},
   "source": [
    "# In this example, map() applies the lambda function x * 2 to each element in the numbers list, returning a new list with the doubled values.\n",
    "\n",
    "# Common use cases:\n",
    "\n",
    "# - Data transformation: Convert data types, perform calculations, or apply conditional logic\n",
    "# - Data cleaning: Remove duplicates, trim strings, or replace values\n",
    "# - Data aggregation: Sum, count, or group data\n",
    "\n",
    "# Some more examples:\n",
    "\n",
    "#  - Squaring numbers: squares = list(map(lambda x: x ** 2, [1, 2, 3]))\n",
    "# - Converting strings to uppercase: uppercase_strings = list(map(str.upper, [\"hello\", \"world\"]))\n",
    "# - Filtering out odd numbers: even_numbers = list(map(lambda x: x if x % 2 == 0 else None, [1, 2, 3, 4]))\n",
    "\n",
    "# Remember, map() returns a map object, so you often need to convert it to a list or other data structure to use the results."
   ]
  },
  {
   "cell_type": "markdown",
   "id": "0b45ef29-fd72-4ed0-a106-77c8dad2397d",
   "metadata": {},
   "source": [
    "# 10. What is the difference between `map()`, `reduce()`, and `filter()` functions in Python?\n",
    "\n",
    "# map(), reduce(), and filter() are all higher-order functions in Python, which means they take other functions as arguments and operate on iterables. Here's a brief overview of each:\n",
    "\n",
    "# 1. map(function, iterable):\n",
    "#    - Applies the given function to each element of the iterable\n",
    "#    - Returns a list of the results\n",
    "#    - Purpose: Data transformation, element-wise operations\n",
    "# 2. reduce(function, iterable):\n",
    "#    - Applies the given function to the first two elements of the iterable, then to the result and the next element, and so on\n",
    "#    - Returns a single output value\n",
    "#    - Purpose: Data aggregation, accumulation, reduction\n",
    "# 3. filter(function, iterable):\n",
    "#    - Applies the given function to each element of the iterable\n",
    "#    - Returns an iterator with only the elements for which the function returns True\n",
    "#    - Purpose: Data filtering, selection, exclusion\n",
    "\n",
    "# Key differences:\n",
    "\n",
    "# - map() transforms data, reduce() aggregates data, and filter() selects data\n",
    "# - map() returns a list, reduce() returns a single value, and filter() returns an iterator\n",
    "# - map() and filter() operate element-wise, while reduce() operates cumulatively\n",
    "\n",
    "# When to use each:\n",
    "\n",
    "# - map(): Data transformation, element-wise operations\n",
    "# - reduce(): Data aggregation, accumulation, reduction\n",
    "# - filter(): Data filtering, selection, exclusion"
   ]
  },
  {
   "cell_type": "code",
   "execution_count": 27,
   "id": "d32180e4-7c45-4a9e-88f6-90491a29c4c2",
   "metadata": {},
   "outputs": [],
   "source": [
    "# Examples:\n",
    "\n",
    "# - map(): Doubling numbers: list(map(lambda x: x * 2, [1, 2, 3]))\n",
    "# - reduce(): Summing numbers: reduce(lambda x, y: x + y, [1, 2, 3])\n",
    "# - filter(): Filtering out odd numbers: list(filter(lambda x: x % 2 == 0, [1, 2, 3, 4]))"
   ]
  },
  {
   "cell_type": "markdown",
   "id": "8d04a4af-29dd-44f0-9ec1-a494845e58b9",
   "metadata": {},
   "source": [
    "# 11. Using pen & Paper write the internal mechanism for sum operation using  reduce function on this given\n",
    "# list:[47,11,42,13]; \n",
    "\n",
    "# Answer is in drive link."
   ]
  },
  {
   "cell_type": "code",
   "execution_count": 39,
   "id": "b4e472b9-e8c3-4d53-be84-338f9744b589",
   "metadata": {},
   "outputs": [
    {
     "name": "stdout",
     "output_type": "stream",
     "text": [
      "12\n"
     ]
    }
   ],
   "source": [
    "# PRACTICAL QUESTIONS\n",
    "\n",
    "# 1. Here is a Python function that does that:\n",
    "\n",
    "\n",
    "def sum_even_numbers(num_list):\n",
    "    return sum(num for num in num_list if num % 2 == 0)\n",
    "\n",
    "\n",
    "# This function uses a generator expression to iterate over the input list, selecting only the even numbers (where num % 2 == 0) and summing them up using the built-in sum function.\n",
    "\n",
    "# You can use it like this:\n",
    "\n",
    "\n",
    "numbers = [1, 2, 3, 4, 5, 6]\n",
    "result = sum_even_numbers(numbers)\n",
    "print(result)"
   ]
  },
  {
   "cell_type": "code",
   "execution_count": 40,
   "id": "b6795b13-dd95-472e-926a-8dd9ecffa309",
   "metadata": {},
   "outputs": [],
   "source": [
    "# Alternatively, you can use the filter function to achieve the same result:\n",
    "\n",
    "\n",
    "def sum_even_numbers(num_list):\n",
    "    return sum(filter(lambda x: x % 2 == 0, num_list))\n",
    "\n",
    "\n",
    "# Both of these functions will give you the sum of all even numbers in the input list."
   ]
  },
  {
   "cell_type": "code",
   "execution_count": 42,
   "id": "411f163e-10f5-440d-a5a2-94c6e2abdd1b",
   "metadata": {},
   "outputs": [
    {
     "name": "stdout",
     "output_type": "stream",
     "text": [
      "olleh\n"
     ]
    }
   ],
   "source": [
    "# 2. Create a Python function that accepts a string and returns the reverse of that string.\n",
    "\n",
    "# Here is a simple Python function that reverses a string:\n",
    "\n",
    "\n",
    "def reverse_string(s):\n",
    "    return s[::-1]\n",
    "\n",
    "\n",
    "# This function uses slicing to extract the characters of the string in reverse order. The ::-1 slice means \"start at the end of the string and move backwards to the beginning, stepping backwards by 1 character each time\".\n",
    "\n",
    "# You can use it like this:\n",
    "\n",
    "\n",
    "my_string = \"hello\"\n",
    "reversed_string = reverse_string(my_string)\n",
    "print(reversed_string)  # Output: \"olleh\"\n",
    "\n",
    "\n",
    "# Alternatively, you can use the reversed function to reverse the string:\n",
    "\n",
    "\n",
    "def reverse_string(s):\n",
    "    return \"\".join(reversed(s))\n",
    "\n",
    "\n",
    "# This function uses the reversed function to reverse the characters of the string, and then joins them back together into a single string using the \"\".join() method.\n"
   ]
  },
  {
   "cell_type": "code",
   "execution_count": 43,
   "id": "642c157a-deae-43ea-88cf-117d0904b549",
   "metadata": {},
   "outputs": [
    {
     "name": "stdout",
     "output_type": "stream",
     "text": [
      "[1, 4, 9, 16, 25]\n"
     ]
    }
   ],
   "source": [
    "# 3. Implement a Python function that takes a list of integers and returns a new list containing the squares of each number.\n",
    "\n",
    "# Here is a simple Python function that takes a list of integers and returns a new list containing the squares of each number:\n",
    "\n",
    "\n",
    "def square_numbers(num_list):\n",
    "    return [num ** 2 for num in num_list]\n",
    "\n",
    "\n",
    "# This function uses a list comprehension to iterate over the input list, squaring each number and collecting the results in a new list.\n",
    "\n",
    "# You can use it like this:\n",
    "\n",
    "\n",
    "numbers = [1, 2, 3, 4, 5]\n",
    "squared_numbers = square_numbers(numbers)\n",
    "print(squared_numbers)  # Output: [1, 4, 9, 16, 25]\n",
    "\n",
    "\n",
    "# Alternatively, you can use the map function to achieve the same result:\n",
    "\n",
    "\n",
    "def square_numbers(num_list):\n",
    "    return list(map(lambda x: x ** 2, num_list))\n",
    "\n",
    "\n",
    "# This function uses the map function to apply the lambda function x ** 2 to each element of the input list, and then converts the result to a list using the list function.\n",
    "\n",
    "# Both of these functions will give you a new list containing the squares of each number in the input list"
   ]
  },
  {
   "cell_type": "code",
   "execution_count": 44,
   "id": "11390bff-8d59-4301-bdc0-ba20a2b15cec",
   "metadata": {},
   "outputs": [
    {
     "name": "stdout",
     "output_type": "stream",
     "text": [
      "2\n",
      "3\n",
      "5\n",
      "7\n",
      "11\n",
      "13\n",
      "17\n",
      "19\n",
      "23\n",
      "29\n",
      "31\n",
      "37\n",
      "41\n",
      "43\n",
      "47\n",
      "53\n",
      "59\n",
      "61\n",
      "67\n",
      "71\n",
      "73\n",
      "79\n",
      "83\n",
      "89\n",
      "97\n",
      "101\n",
      "103\n",
      "107\n",
      "109\n",
      "113\n",
      "127\n",
      "131\n",
      "137\n",
      "139\n",
      "149\n",
      "151\n",
      "157\n",
      "163\n",
      "167\n",
      "173\n",
      "179\n",
      "181\n",
      "191\n",
      "193\n",
      "197\n",
      "199\n"
     ]
    }
   ],
   "source": [
    "# 4. Write a Python function that checks if a given number is prime or not from 1 to 200\n",
    "\n",
    "# Here is a Python function that checks if a given number is prime or not:\n",
    "\n",
    "\n",
    "def is_prime(n):\n",
    "    if n <= 1:\n",
    "        return False\n",
    "    elif n <= 3:\n",
    "        return True\n",
    "    elif n % 2 == 0 or n % 3 == 0:\n",
    "        return False\n",
    "    i = 5\n",
    "    while i * i <= n:\n",
    "        if n % i == 0 or n % (i + 2) == 0:\n",
    "            return False\n",
    "        i += 6\n",
    "    return True\n",
    "\n",
    "# Check prime numbers from 1 to 200\n",
    "for num in range(1, 201):\n",
    "    if is_prime(num):\n",
    "        print(num)"
   ]
  },
  {
   "cell_type": "raw",
   "id": "3c277748-c6d0-475d-a46b-3fb4c9313d26",
   "metadata": {},
   "source": [
    "# This function works by first checking if the number is less than or equal to 1 (not prime), or if it's less than or equal to 3 (prime). Then it checks if the number is divisible by 2 or 3. If it is, it's not a prime number. If none of these conditions are true, it uses a loop to check if the number is divisible by any odd number up to the square root of the number. If it is, it's not a prime number. If none of these conditions are true, the number is prime.\n",
    "\n",
    "# The second part of the code uses a for loop to check if each number from 1 to 200 is prime, and prints the prime numbers.\n",
    "\n",
    "# Note: This function uses a optimized algorithm for checking prime numbers, it only checks divisibility up to the square root of the number, which makes it more efficient."
   ]
  },
  {
   "cell_type": "code",
   "execution_count": 45,
   "id": "b8ea6f93-75d5-455f-9ce5-c77da8290597",
   "metadata": {},
   "outputs": [
    {
     "name": "stdout",
     "output_type": "stream",
     "text": [
      "0\n",
      "1\n",
      "1\n",
      "2\n",
      "3\n",
      "5\n",
      "8\n",
      "13\n",
      "21\n",
      "34\n"
     ]
    }
   ],
   "source": [
    "# 5. Create an iterator class in Python that generates the Fibonacci sequence up to a specified number of terms.\n",
    "\n",
    "# Here is an example of an iterator class in Python that generates the Fibonacci sequence up to a specified number of terms:\n",
    "\n",
    "\n",
    "class FibonacciIterator:\n",
    "    def __init__(self, n):\n",
    "        self.n = n\n",
    "        self.a, self.b = 0, 1\n",
    "        self.current_term = 0\n",
    "\n",
    "    def __iter__(self):\n",
    "        return self\n",
    "\n",
    "    def __next__(self):\n",
    "        if self.current_term < self.n:\n",
    "            result = self.a\n",
    "            self.a, self.b = self.b, self.a + self.b\n",
    "            self.current_term += 1\n",
    "            return result\n",
    "        else:\n",
    "            raise StopIteration\n",
    "\n",
    "# Usage:\n",
    "fib_iterator = FibonacciIterator(10)\n",
    "for num in fib_iterator:\n",
    "    print(num)\n",
    "\n",
    "\n",
    "# This iterator class takes an integer n in its constructor, which specifies the number of terms to generate. The __next__ method generates the next term in the sequence, and the __iter__ method returns the iterator object itself.\n",
    "\n",
    "# In the usage example, we create a FibonacciIterator object with n=10, and then use a for loop to print the first 10 terms of the Fibonacci sequence.\n",
    "\n",
    "# Note that this implementation uses an iterative approach to generate the Fibonacci sequence, which is more efficient than a recursive approach for large values of n"
   ]
  },
  {
   "cell_type": "code",
   "execution_count": 46,
   "id": "5832b2d8-6580-45c2-a6bd-3cbfce8aa422",
   "metadata": {},
   "outputs": [
    {
     "name": "stdout",
     "output_type": "stream",
     "text": [
      "1\n",
      "2\n",
      "4\n",
      "8\n",
      "16\n",
      "32\n"
     ]
    }
   ],
   "source": [
    "# 6. Write a generator function in Python that yields the powers of 2 up to a given exponent\n",
    "\n",
    "# Here is a simple generator function in Python that yields the powers of 2 up to a given exponent:\n",
    "\n",
    "\n",
    "def powers_of_two(exponent):\n",
    "    for i in range(exponent + 1):\n",
    "        yield 2 ** i\n",
    "\n",
    "# Usage:\n",
    "for power in powers_of_two(5):\n",
    "    print(power)\n",
    "\n",
    "\n",
    "# This generator function uses a for loop to iterate over the range of the given exponent, and yields the power of 2 for each iteration. The yield keyword is used to define a generator function, which returns an iterator that produces a sequence of results.\n",
    "\n",
    "# In the usage example, we create a generator object by calling the powers_of_two function with an exponent of 5. Then, we use a for loop to print each power of 2 yielded by the generator."
   ]
  },
  {
   "cell_type": "raw",
   "id": "102b49b5-6942-41ee-8adf-9e1a6f519f08",
   "metadata": {},
   "source": [
    "# Note that the generator function only calculates each power of 2 on the fly, as needed, rather than storing all the powers in a list. This makes it more memory-efficient for large exponents."
   ]
  },
  {
   "cell_type": "code",
   "execution_count": 49,
   "id": "ab673e1b-f6c5-41f9-80a1-4f79076c8c7c",
   "metadata": {},
   "outputs": [],
   "source": [
    "# 7. Implement a generator function that reads a file line by line and yields each line as a string.\n",
    "\n",
    "# Here is an example of a generator function that reads a file line by line and yields each line as a string:\n",
    "\n",
    "\n",
    "def read_file_line_by_line(file_path):\n",
    "    with open(file_path, 'r') as file:\n",
    "        for line in file:\n",
    "            yield line.strip()\n",
    "\n",
    "# Usage:\n",
    "    for line in read_file_line_by_line('example.txt'):\n",
    "        print(line)\n",
    "\n",
    "\n",
    "# This generator function opens the file in read mode and uses a for loop to iterate over each line in the file. The yield keyword is used to return each line as a string, and the strip method is used to remove any trailing newlines or whitespace.\n",
    "\n",
    "# In the usage example, we create a generator object by calling the read_file_line_by_line function with the path to a file named 'example.txt'. Then, we use a for loop to print each line yielded by the generator.\n",
    "\n",
    "# Note that this implementation uses a with statement to ensure that the file is properly closed after it is no longer needed, regardless of whether an exception is thrown or not. This is a good practice to follow when working with files in Python.\n",
    "\n",
    "# Also, this implementation uses a generator function, which means that it only reads and yields one line at a time, rather than reading the entire file into memory at once. This can be more memory-efficient for large files."
   ]
  },
  {
   "cell_type": "code",
   "execution_count": 51,
   "id": "46d445b8-6b71-48c5-94df-b38357aab27a",
   "metadata": {},
   "outputs": [
    {
     "name": "stdout",
     "output_type": "stream",
     "text": [
      "[(3, 1), (1, 2), (2, 3), (5, 4)]\n"
     ]
    }
   ],
   "source": [
    "# 8. Use a lambda function in Python to sort a list of tuples based on the second element of each tuple.\n",
    "\n",
    "# Here is an example of how to use a lambda function in Python to sort a list of tuples based on the second element of each tuple:\n",
    "\n",
    "\n",
    "tuples_list = [(1, 2), (3, 1), (5, 4), (2, 3)]\n",
    "\n",
    "sorted_tuples = sorted(tuples_list, key=lambda x: x[1])\n",
    "\n",
    "print(sorted_tuples)\n",
    "\n",
    "\n",
    "# Output:\n",
    "\n",
    "# [(3, 1), (1, 2), (2, 3), (5, 4)]\n",
    "\n",
    "\n",
    "# In this example, the sorted function is used to sort the list of tuples. The key argument is a lambda function that takes a tuple as input and returns its second element (x[1]). This tells the sorted function to sort the tuples based on their second elements.\n",
    "\n",
    "# The lambda function is equivalent to a regular function that takes a tuple as input and returns its second element:\n",
    "\n",
    "def get_second_element(tuple):\n",
    "    return tuple[1]\n",
    "\n",
    "# But the lambda function is a more concise and expressive way to achieve the same result.\n",
    "\n",
    "# Note that the sorted function returns a new sorted list and does not modify the original list. If you want to sort the original list in place, you can use the sort method instead:\n",
    "\n",
    "# tuples_list.sort(key=lambda x: x[1])"
   ]
  },
  {
   "cell_type": "code",
   "execution_count": 52,
   "id": "03c29318-12c5-4bbe-a79f-aae6ed77113e",
   "metadata": {},
   "outputs": [
    {
     "name": "stdout",
     "output_type": "stream",
     "text": [
      "[32.0, 50.0, 68.0, 86.0, 104.0]\n"
     ]
    }
   ],
   "source": [
    "# 9. Write a Python program that uses `map()` to convert a list of temperatures from Celsius to Fahrenheit\n",
    "\n",
    "# Here is a Python program that uses map() to convert a list of temperatures from Celsius to Fahrenheit:\n",
    "\n",
    "\n",
    "def celsius_to_fahrenheit(celsius):\n",
    "    return (celsius * 9/5) + 32\n",
    "\n",
    "celsius_temps = [0, 10, 20, 30, 40]\n",
    "fahrenheit_temps = list(map(celsius_to_fahrenheit, celsius_temps))\n",
    "\n",
    "print(fahrenheit_temps)\n",
    "\n",
    "\n",
    "# Output:\n",
    "\n",
    "# [32.0, 50.0, 68.0, 86.0, 104.0]\n",
    "\n",
    "\n",
    "# In this program, the celsius_to_fahrenheit function takes a temperature in Celsius as input and returns the equivalent temperature in Fahrenheit. The map function applies this conversion function to each element in the celsius_temps list, and the resulting temperatures in Fahrenheit are collected in the fahrenheit_temps list.\n",
    "\n",
    "# Note that the map function returns an iterator, so we need to convert it to a list using the list function to get the resulting list of temperatures.\n",
    "\n",
    "# Alternatively, you can use a lambda function directly in the map call:\n",
    "\n",
    "celsius_temps = [0, 10, 20, 30, 40]\n",
    "fahrenheit_temps = list(map(lambda c: (c * 9/5) + 32, celsius_temps))"
   ]
  },
  {
   "cell_type": "code",
   "execution_count": 53,
   "id": "0bbdb6b0-fb2c-4cd0-b481-830d1671b733",
   "metadata": {},
   "outputs": [
    {
     "name": "stdout",
     "output_type": "stream",
     "text": [
      "Hll Wrld\n"
     ]
    }
   ],
   "source": [
    "# 10. Create a Python program that uses `filter()` to remove all the vowels from a given string.\n",
    "\n",
    "# Here is a Python program that uses filter() to remove all the vowels from a given string:\n",
    "\n",
    "\n",
    "def remove_vowels(char):\n",
    "    vowels = 'aeiouAEIOU'\n",
    "    return char not in vowels\n",
    "\n",
    "input_string = \"Hello World\"\n",
    "no_vowels_string = ''.join(filter(remove_vowels, input_string))\n",
    "\n",
    "print(no_vowels_string)\n",
    "\n",
    "\n",
    "# Output:\n",
    "\n",
    "# Hll Wrld\n",
    "\n",
    "\n",
    "# In this program, the remove_vowels function takes a character as input and returns True if the character is not a vowel and False otherwise. The filter function applies this predicate function to each character in the input string, and the resulting characters are joined together using the join method to form the output string.\n",
    "\n",
    "# Alternatively, you can use a lambda function directly in the filter call:\n",
    "\n",
    "input_string = \"Hello World\"\n",
    "no_vowels_string = ''.join(filter(lambda c: c not in 'aeiouAEIOU', input_string))\n",
    "\n",
    "\n",
    "# Note that the filter function returns an iterator, so we need to convert it to a string using the join method to get the resulting string."
   ]
  },
  {
   "cell_type": "code",
   "execution_count": 54,
   "id": "703aba5f-71e5-4cdb-9b8e-60514893c3b2",
   "metadata": {},
   "outputs": [
    {
     "name": "stdout",
     "output_type": "stream",
     "text": [
      "[(34587, 163.8), (98762, 284.0), (77226, 108.85000000000001), (88112, 59.98)]\n"
     ]
    }
   ],
   "source": [
    "# 11. Write a Python program, which returns a list with 2-tuples. Each tuple consists of the order number and the product of the price per item and the quantity. The product should be increased by 10,- € if the value of the order is smaller than 100,00 €. Write a Python program using lambda and map.\n",
    "\n",
    "# Write a Python program using lambda and map.\n",
    "\n",
    "orders = [\n",
    "    (34587, 4, 40.95),\n",
    "    (98762, 5, 56.80),\n",
    "    (77226, 3, 32.95),\n",
    "    (88112, 2, 24.99)\n",
    "]\n",
    "\n",
    "calculate_order_value = lambda order: (order[0], order[1] * order[2] + 10 if order[1] * order[2] < 100 else order[1] * order[2])\n",
    "\n",
    "adjusted_orders = list(map(calculate_order_value, orders))\n",
    "\n",
    "print(adjusted_orders)"
   ]
  },
  {
   "cell_type": "code",
   "execution_count": null,
   "id": "e9ca3cc7-0f47-4731-a527-92b3471e3c23",
   "metadata": {},
   "outputs": [],
   "source": []
  }
 ],
 "metadata": {
  "kernelspec": {
   "display_name": "Python 3 (ipykernel)",
   "language": "python",
   "name": "python3"
  },
  "language_info": {
   "codemirror_mode": {
    "name": "ipython",
    "version": 3
   },
   "file_extension": ".py",
   "mimetype": "text/x-python",
   "name": "python",
   "nbconvert_exporter": "python",
   "pygments_lexer": "ipython3",
   "version": "3.12.5"
  }
 },
 "nbformat": 4,
 "nbformat_minor": 5
}
